{
 "cells": [
  {
   "cell_type": "code",
   "execution_count": 46,
   "id": "ff97182b-ea13-49a2-a413-ae0d17586493",
   "metadata": {
    "pycharm": {
     "is_executing": true
    }
   },
   "outputs": [],
   "source": [
    "from pyspark import SparkConf\n",
    "from pyspark.sql import SparkSession\n",
    "\n",
    "import pyspark.sql.types as t\n",
    "import pyspark.sql.functions as f\n",
    "\n",
    "from pyspark.sql.window import Window\n",
    "\n",
    "import columns as c"
   ]
  },
  {
   "cell_type": "code",
   "execution_count": 2,
   "id": "65adc13c-3acc-4fa4-9358-187e19b9cfcf",
   "metadata": {},
   "outputs": [],
   "source": [
    "MINIMAL_TRIP_TIME_SEC = 3*60\n",
    "MINIMAL_FARE_AMOUNT = 3.0\n",
    "NYC_TIMEZONE = \"America/New_York\"\n",
    "\n",
    "TARGET_MONTH_NUM = 3 # march\n",
    "\n",
    "MAX_PASSENGER_NUM = 4\n",
    "MILES_SEC_TO_KM_HOUR = 5793.6384\n",
    "STD_CITY_RATE = 1 # Standard City Rate"
   ]
  },
  {
   "cell_type": "code",
   "execution_count": 3,
   "id": "76f569fc-6365-496f-bc48-8a4002593aac",
   "metadata": {},
   "outputs": [],
   "source": [
    "spark_session = (SparkSession.builder\n",
    "                     .master('local')\n",
    "                     .appName('taxiSparlApp')\n",
    "                     .config(conf=SparkConf())\n",
    "                     .getOrCreate())"
   ]
  },
  {
   "cell_type": "code",
   "execution_count": 4,
   "id": "31f84634-752b-466a-9d3f-e4dea0889baf",
   "metadata": {},
   "outputs": [],
   "source": [
    "DATA_ROOT_PATH = \"path/to/data\"\n",
    "TRIP_DATA_PATH = DATA_ROOT_PATH + \"/trip_data/trip_data_3.csv\"\n",
    "TRIP_DATA_PATH_ALL = [ \n",
    "    # DATA_ROOT_PATH + \"/trip_data/trip_data_1.csv\",\n",
    "    # DATA_ROOT_PATH + \"/trip_data/trip_data_2.csv\",\n",
    "    DATA_ROOT_PATH + \"/trip_data/trip_data_3.csv\",\n",
    "    DATA_ROOT_PATH + \"/trip_data/trip_data_4.csv\"\n",
    "    # DATA_ROOT_PATH + \"/trip_data/trip_data_5.csv\",\n",
    "    # DATA_ROOT_PATH + \"/trip_data/trip_data_6.csv\",\n",
    "    # DATA_ROOT_PATH + \"/trip_data/trip_data_7.csv\",\n",
    "    # DATA_ROOT_PATH + \"/trip_data/trip_data_8.csv\",\n",
    "    # DATA_ROOT_PATH + \"/trip_data/trip_data_9.csv\",\n",
    "    # DATA_ROOT_PATH + \"/trip_data/trip_data_10.csv\",\n",
    "    # DATA_ROOT_PATH + \"/trip_data/trip_data_11.csv\",\n",
    "#    DATA_ROOT_PATH + \"/trip_data/trip_data_12.csv\"\n",
    "]\n",
    "\n",
    "TRIP_FARE_PATH = DATA_ROOT_PATH + \"/trip_fare/trip_fare_1.csv\"\n",
    "TRIP_FARE_PATH_ALL = [ \n",
    "    # DATA_ROOT_PATH + \"/trip_fare/trip_fare_1.csv\",\n",
    "    # DATA_ROOT_PATH + \"/trip_fare/trip_fare_2.csv\",\n",
    "    DATA_ROOT_PATH + \"/trip_fare/trip_fare_3.csv\",\n",
    "    DATA_ROOT_PATH + \"/trip_fare/trip_fare_4.csv\"\n",
    "    # DATA_ROOT_PATH + \"/trip_fare/trip_fare_5.csv\",\n",
    "    # DATA_ROOT_PATH + \"/trip_fare/trip_fare_6.csv\",\n",
    "    # DATA_ROOT_PATH + \"/trip_fare/trip_fare_7.csv\",\n",
    "    # DATA_ROOT_PATH + \"/trip_fare/trip_fare_8.csv\",\n",
    "    # DATA_ROOT_PATH + \"/trip_fare/trip_fare_9.csv\",\n",
    "    # DATA_ROOT_PATH + \"/trip_fare/trip_fare_10.csv\",\n",
    "    # DATA_ROOT_PATH + \"/trip_fare/trip_fare_11.csv\",\n",
    "    #DATA_ROOT_PATH + \"/trip_fare/trip_fare_12.csv\"\n",
    "]\n",
    "\n"
   ]
  },
  {
   "cell_type": "code",
   "execution_count": 5,
   "id": "4df02e2e-4e3b-44dd-8ede-a06d79a9f3b8",
   "metadata": {},
   "outputs": [],
   "source": [
    "trip_schema = t.StructType([\n",
    "    t.StructField(\"medallion\", t.StringType(), True),\n",
    "    t.StructField(\" hack_license\", t.StringType(), True),\n",
    "    t.StructField(\" vendor_id\", t.StringType(), True),\n",
    "    t.StructField(\" rate_code\", t.IntegerType(), True),\n",
    "    t.StructField(\" store_and_fwd_flag\", t.StringType(), True),\n",
    "    t.StructField(\" pickup_datetime\", t.TimestampType(), True),\n",
    "    t.StructField(\" dropoff_datetime\", t.TimestampType(), True),\n",
    "    t.StructField(\" passenger_count\", t.IntegerType(), True),\n",
    "    t.StructField(\" trip_time_in_secs\", t.StringType(), True),\n",
    "    t.StructField(\" trip_distance\", t.FloatType(), True),\n",
    "    t.StructField(\" pickup_longitude\", t.FloatType(), True),\n",
    "    t.StructField(\" pickup_latitude\", t.FloatType(), True),\n",
    "    t.StructField(\" dropoff_longitude\", t.FloatType(), True),\n",
    "    t.StructField(\" dropoff_latitude\", t.FloatType(), True)\n",
    "])\n"
   ]
  },
  {
   "cell_type": "code",
   "execution_count": 6,
   "id": "e01d99d7-9a8e-407e-9078-58385c8ba92f",
   "metadata": {},
   "outputs": [],
   "source": [
    "fare_schema = t.StructType([\n",
    "    t.StructField(\"medallion\", t.StringType(), True),\n",
    "    t.StructField(\" hack_license\", t.StringType(), True),\n",
    "    t.StructField(\" vendor_id\", t.StringType(), True),\n",
    "    t.StructField(\" pickup_datetime\", t.TimestampType(), True),\n",
    "    t.StructField(\" payment_type\", t.StringType(), True),\n",
    "    t.StructField(\" fare_amount\", t.FloatType(), True),\n",
    "    t.StructField(\" surcharge\", t.FloatType(), True),\n",
    "    t.StructField(\" mta_tax\", t.FloatType(), True),\n",
    "    t.StructField(\" tip_amount\", t.FloatType(), True),\n",
    "    t.StructField(\" tolls_amount\", t.FloatType(), True),\n",
    "    t.StructField(\" total_amount\", t.FloatType(), True)\n",
    "])"
   ]
  },
  {
   "cell_type": "code",
   "execution_count": 7,
   "id": "91f9758a-0d17-4010-92a5-f4a3d6085b67",
   "metadata": {},
   "outputs": [],
   "source": [
    "def column_names_list(df):\n",
    "    col_names = [col.lower().replace(\" \", \"_\") for col in df.columns]\n",
    "    for i in range(len(col_names)):\n",
    "        print(df.columns[i],\"=\", f\"'{col_names[i]}'\")"
   ]
  },
  {
   "cell_type": "code",
   "execution_count": 8,
   "id": "d23f047e-f72c-4bb9-8bf9-a42c6d9d0e3d",
   "metadata": {},
   "outputs": [],
   "source": [
    "def strip_columns(df):\n",
    "    new_col_names =  [col.strip() for col in df.columns]\n",
    "    new_column_name_list= list(map(lambda x: x.strip(), df.columns))\n",
    "    df = df.toDF(*new_column_name_list)\n",
    "    return df"
   ]
  },
  {
   "cell_type": "code",
   "execution_count": 9,
   "id": "d3902dcb-0790-4e86-a8e2-619d8613d7cd",
   "metadata": {
    "scrolled": true
   },
   "outputs": [
    {
     "name": "stdout",
     "output_type": "stream",
     "text": [
      "+--------------------+--------------------+----------+----------+-------------------+-------------------+-------------------+----------------+------------------+--------------+-----------------+----------------+------------------+-----------------+\n",
      "|           medallion|        hack_license| vendor_id| rate_code| store_and_fwd_flag|    pickup_datetime|   dropoff_datetime| passenger_count| trip_time_in_secs| trip_distance| pickup_longitude| pickup_latitude| dropoff_longitude| dropoff_latitude|\n",
      "+--------------------+--------------------+----------+----------+-------------------+-------------------+-------------------+----------------+------------------+--------------+-----------------+----------------+------------------+-----------------+\n",
      "|FE7B354FEB67B9C94...|2C78614ADC9C602EC...|       CMT|         1|                  N|2013-03-01 00:00:04|2013-03-01 00:19:03|               1|              1138|          14.3|         -73.7767|       40.645164|        -73.913925|        40.772614|\n",
      "|B1370E6501ED61CED...|08BF18740B38D6472...|       CMT|         1|                  N|2013-03-01 00:00:18|2013-03-01 00:12:11|               1|               712|           3.3|        -73.98734|       40.752056|         -73.96534|         40.79272|\n",
      "|CBC20164C22B96CAF...|F3310C8DA3DB753DD...|       CMT|         1|                  N|2013-03-01 00:00:18|2013-03-01 00:14:24|               1|               845|           4.5|        -73.99149|       40.726444|        -73.980865|         40.77837|\n",
      "|B8256802A449BEF34...|DF142C5256392C3CD...|       CMT|         1|                  N|2013-03-01 00:00:23|2013-03-01 00:14:56|               1|               872|           9.0|        -73.87311|       40.774094|         -73.96093|        40.769535|\n",
      "|0F9E0728AB1E40D5C...|10D2E58D75E07D6B5...|       CMT|         1|                  N|2013-03-01 00:00:35|2013-03-01 00:05:44|               1|               308|           1.3|        -73.99056|       40.750927|         -73.98288|        40.739132|\n",
      "|D9F2D9B8520157F35...|A38CE69F84E515A71...|       CMT|         1|                  N|2013-03-01 00:00:39|2013-03-01 00:16:09|               1|               930|           4.1|        -73.98103|       40.759205|        -73.921646|        40.738354|\n",
      "|CFC0F9CE3CA2B3A53...|3DD549B1A5F1EF313...|       CMT|         1|                  N|2013-03-01 00:00:39|2013-03-01 00:10:14|               1|               574|           2.4|         -74.0001|       40.734695|         -73.97452|         40.75349|\n",
      "|9EB16B34B8DCE7409...|DF4C8A343928E47C3...|       CMT|         1|                  N|2013-03-01 00:00:51|2013-03-01 00:11:40|               1|               649|           2.8|       -73.977486|        40.73822|         -73.98891|        40.719063|\n",
      "|BFB50E2A29509C819...|5490FCCC1EEFC71E5...|       CMT|         1|                  N|2013-03-01 00:00:39|2013-03-01 00:11:58|               1|               678|           2.3|       -73.982254|        40.77077|         -73.97092|         40.74885|\n",
      "|8AD0B4FDBF2F62F88...|A1BADDEEB8F3AD973...|       CMT|         1|                  N|2013-03-01 00:04:49|2013-03-01 00:08:51|               1|               241|           1.1|        -73.95578|        40.77252|         -73.94682|        40.781628|\n",
      "|EC357E5043D2B57A5...|57E230DE0A42F3A87...|       CMT|         1|                  N|2013-03-01 00:04:57|2013-03-01 00:15:39|               2|               641|           2.0|       -73.988785|       40.722244|         -73.97982|        40.746365|\n",
      "|9202653FEF132ECCF...|A86011E8B4D0FCC19...|       CMT|         1|                  N|2013-03-01 00:05:04|2013-03-01 00:11:25|               1|               381|           1.6|        -73.96048|       40.776127|         -73.98121|         40.78064|\n",
      "|8B8D3A06CE1FAD14B...|9BC5440E1CDC10E1A...|       CMT|         1|                  N|2013-03-01 00:05:14|2013-03-01 00:19:28|               1|               853|           6.6|        -74.00892|       40.713947|         -73.91686|        40.742718|\n",
      "|46E1AE760E9E1FC15...|C21B0744AFE2EB827...|       CMT|         1|                  N|2013-03-01 00:05:14|2013-03-01 00:47:14|               1|              2519|          22.0|        -74.00079|        40.72968|         -73.78671|        40.843445|\n",
      "|3CD865423995A255E...|69365235F0D552B41...|       CMT|         1|                  N|2013-03-01 00:05:23|2013-03-01 00:20:41|               1|               917|           3.8|        -73.96016|       40.762028|         -74.00426|        40.738377|\n",
      "|5DB88689955538204...|931A02DDFF04FAAB6...|       CMT|         1|                  N|2013-03-01 00:05:30|2013-03-01 00:11:28|               1|               357|           1.7|        -73.99695|         40.7375|         -73.99031|        40.756832|\n",
      "|5B61670F3280083D3...|4A855083F444749A8...|       CMT|         1|                  N|2013-03-01 00:05:40|2013-03-01 00:18:23|               2|               763|           2.7|        -73.95063|       40.771557|        -73.985405|         40.75901|\n",
      "|BEEB676B645ABBC94...|39A226BFC4DE46B9B...|       CMT|         1|                  N|2013-03-01 00:05:41|2013-03-01 00:11:04|               1|               323|           1.3|              0.0|             0.0|               0.0|              0.0|\n",
      "|D30BED60331C79E3F...|E0F3F8A7AE1B8DCCE...|       CMT|         1|                  N|2013-03-01 00:05:48|2013-03-01 00:18:11|               1|               743|           1.8|       -73.983505|       40.761242|          -73.9936|        40.739323|\n",
      "|D886C7DC412D236CF...|9B87622D5FD8A9F31...|       CMT|         2|                  N|2013-03-01 00:05:55|2013-03-01 00:39:25|               1|              2009|          20.0|       -74.001114|       40.751873|         -74.01782|         40.85119|\n",
      "+--------------------+--------------------+----------+----------+-------------------+-------------------+-------------------+----------------+------------------+--------------+-----------------+----------------+------------------+-----------------+\n",
      "only showing top 20 rows\n",
      "\n"
     ]
    }
   ],
   "source": [
    "trip_df_raw = spark_session.read.csv(TRIP_DATA_PATH_ALL, sep=',',header=True, schema=trip_schema)\n",
    "\n",
    "# trip_df_raw.schema\n",
    "trip_df_raw.show()"
   ]
  },
  {
   "cell_type": "code",
   "execution_count": 10,
   "id": "b91598b6-f735-4bb8-8410-b6cf926b1457",
   "metadata": {},
   "outputs": [
    {
     "name": "stdout",
     "output_type": "stream",
     "text": [
      "+--------------------+--------------------+----------+-------------------+-------------+------------+----------+--------+-----------+-------------+-------------+\n",
      "|           medallion|        hack_license| vendor_id|    pickup_datetime| payment_type| fare_amount| surcharge| mta_tax| tip_amount| tolls_amount| total_amount|\n",
      "+--------------------+--------------------+----------+-------------------+-------------+------------+----------+--------+-----------+-------------+-------------+\n",
      "|FE7B354FEB67B9C94...|2C78614ADC9C602EC...|       CMT|2013-03-01 00:00:04|          CRD|        39.5|       0.5|     0.5|       10.1|          0.0|         50.6|\n",
      "|B1370E6501ED61CED...|08BF18740B38D6472...|       CMT|2013-03-01 00:00:18|          CRD|        13.0|       0.5|     0.5|        2.1|          0.0|         16.1|\n",
      "|CBC20164C22B96CAF...|F3310C8DA3DB753DD...|       CMT|2013-03-01 00:00:18|          CRD|        15.0|       0.5|     0.5|        3.2|          0.0|         19.2|\n",
      "|B8256802A449BEF34...|DF142C5256392C3CD...|       CMT|2013-03-01 00:00:23|          CRD|        25.5|       0.5|     0.5|       6.26|          4.8|        37.56|\n",
      "|0F9E0728AB1E40D5C...|10D2E58D75E07D6B5...|       CMT|2013-03-01 00:00:35|          CRD|         6.5|       0.5|     0.5|        1.0|          0.0|          8.5|\n",
      "|D9F2D9B8520157F35...|A38CE69F84E515A71...|       CMT|2013-03-01 00:00:39|          CRD|        15.0|       0.5|     0.5|        2.0|          0.0|         18.0|\n",
      "|CFC0F9CE3CA2B3A53...|3DD549B1A5F1EF313...|       CMT|2013-03-01 00:00:39|          CRD|        10.0|       0.5|     0.5|        2.0|          0.0|         13.0|\n",
      "|9EB16B34B8DCE7409...|DF4C8A343928E47C3...|       CMT|2013-03-01 00:00:51|          CRD|        11.5|       0.5|     0.5|       3.75|          0.0|        16.25|\n",
      "|BFB50E2A29509C819...|5490FCCC1EEFC71E5...|       CMT|2013-03-01 00:00:39|          CRD|        10.5|       0.5|     0.5|        2.3|          0.0|         13.8|\n",
      "|8AD0B4FDBF2F62F88...|A1BADDEEB8F3AD973...|       CMT|2013-03-01 00:04:49|          CRD|         5.5|       0.5|     0.5|        1.3|          0.0|          7.8|\n",
      "|EC357E5043D2B57A5...|57E230DE0A42F3A87...|       CMT|2013-03-01 00:04:57|          CRD|         9.5|       0.5|     0.5|        1.5|          0.0|         12.0|\n",
      "|9202653FEF132ECCF...|A86011E8B4D0FCC19...|       CMT|2013-03-01 00:05:04|          CRD|         7.5|       0.5|     0.5|        1.7|          0.0|         10.2|\n",
      "|8B8D3A06CE1FAD14B...|9BC5440E1CDC10E1A...|       CMT|2013-03-01 00:05:14|          CRD|        20.0|       0.5|     0.5|        2.0|          0.0|         23.0|\n",
      "|46E1AE760E9E1FC15...|C21B0744AFE2EB827...|       CMT|2013-03-01 00:05:14|          CRD|        62.0|       0.5|     0.5|       20.0|          0.0|         83.0|\n",
      "|3CD865423995A255E...|69365235F0D552B41...|       CMT|2013-03-01 00:05:23|          CRD|        14.5|       0.5|     0.5|        2.0|          0.0|         17.5|\n",
      "|5DB88689955538204...|931A02DDFF04FAAB6...|       CMT|2013-03-01 00:05:30|          CRD|         7.5|       0.5|     0.5|        1.0|          0.0|          9.5|\n",
      "|5B61670F3280083D3...|4A855083F444749A8...|       CMT|2013-03-01 00:05:40|          CRD|        11.5|       0.5|     0.5|        2.5|          0.0|         15.0|\n",
      "|BEEB676B645ABBC94...|39A226BFC4DE46B9B...|       CMT|2013-03-01 00:05:41|          CRD|         6.5|       0.5|     0.5|        1.0|          0.0|          8.5|\n",
      "|D30BED60331C79E3F...|E0F3F8A7AE1B8DCCE...|       CMT|2013-03-01 00:05:48|          CRD|        10.5|       0.5|     0.5|        2.3|          0.0|         13.8|\n",
      "|D886C7DC412D236CF...|9B87622D5FD8A9F31...|       CMT|2013-03-01 00:05:55|          CRD|        52.0|       0.0|     0.5|       13.8|         16.5|         82.8|\n",
      "+--------------------+--------------------+----------+-------------------+-------------+------------+----------+--------+-----------+-------------+-------------+\n",
      "only showing top 20 rows\n",
      "\n"
     ]
    }
   ],
   "source": [
    "fare_df_raw = spark_session.read.csv(TRIP_FARE_PATH_ALL, sep=',',header=True, schema=fare_schema)\n",
    "\n",
    "# fare_df_raw.schema\n",
    "fare_df_raw.show()"
   ]
  },
  {
   "cell_type": "code",
   "execution_count": 11,
   "id": "927574f3-78de-4281-8619-f4210a63b1a0",
   "metadata": {},
   "outputs": [
    {
     "data": {
      "text/plain": [
       "['medallion',\n",
       " 'hack_license',\n",
       " 'vendor_id',\n",
       " 'rate_code',\n",
       " 'store_and_fwd_flag',\n",
       " 'pickup_datetime',\n",
       " 'dropoff_datetime',\n",
       " 'passenger_count',\n",
       " 'trip_time_in_secs',\n",
       " 'trip_distance',\n",
       " 'pickup_longitude',\n",
       " 'pickup_latitude',\n",
       " 'dropoff_longitude',\n",
       " 'dropoff_latitude']"
      ]
     },
     "execution_count": 11,
     "metadata": {},
     "output_type": "execute_result"
    }
   ],
   "source": [
    "trip_df_raw = strip_columns(trip_df_raw)\n",
    "trip_df_raw.columns"
   ]
  },
  {
   "cell_type": "code",
   "execution_count": 12,
   "id": "0802eeb6-c550-46e3-a4d5-27735caf3d91",
   "metadata": {},
   "outputs": [
    {
     "data": {
      "text/plain": [
       "['medallion',\n",
       " 'hack_license',\n",
       " 'vendor_id',\n",
       " 'pickup_datetime',\n",
       " 'payment_type',\n",
       " 'fare_amount',\n",
       " 'surcharge',\n",
       " 'mta_tax',\n",
       " 'tip_amount',\n",
       " 'tolls_amount',\n",
       " 'total_amount']"
      ]
     },
     "execution_count": 12,
     "metadata": {},
     "output_type": "execute_result"
    }
   ],
   "source": [
    "fare_df_raw = strip_columns(fare_df_raw)\n",
    "fare_df_raw.columns"
   ]
  },
  {
   "cell_type": "code",
   "execution_count": 13,
   "id": "cf3b47f2-079a-4aff-85a4-53da1ced3875",
   "metadata": {},
   "outputs": [
    {
     "name": "stdout",
     "output_type": "stream",
     "text": [
      "medallion = 'medallion'\n",
      "hack_license = 'hack_license'\n",
      "vendor_id = 'vendor_id'\n",
      "rate_code = 'rate_code'\n",
      "store_and_fwd_flag = 'store_and_fwd_flag'\n",
      "pickup_datetime = 'pickup_datetime'\n",
      "dropoff_datetime = 'dropoff_datetime'\n",
      "passenger_count = 'passenger_count'\n",
      "trip_time_in_secs = 'trip_time_in_secs'\n",
      "trip_distance = 'trip_distance'\n",
      "pickup_longitude = 'pickup_longitude'\n",
      "pickup_latitude = 'pickup_latitude'\n",
      "dropoff_longitude = 'dropoff_longitude'\n",
      "dropoff_latitude = 'dropoff_latitude'\n"
     ]
    }
   ],
   "source": [
    "# skip\n",
    "\n",
    "column_names_list(trip_df_raw)"
   ]
  },
  {
   "cell_type": "code",
   "execution_count": 14,
   "id": "283a4fea-77fa-40ef-8d04-0792752108a4",
   "metadata": {},
   "outputs": [
    {
     "name": "stdout",
     "output_type": "stream",
     "text": [
      "medallion = 'medallion'\n",
      "hack_license = 'hack_license'\n",
      "vendor_id = 'vendor_id'\n",
      "pickup_datetime = 'pickup_datetime'\n",
      "payment_type = 'payment_type'\n",
      "fare_amount = 'fare_amount'\n",
      "surcharge = 'surcharge'\n",
      "mta_tax = 'mta_tax'\n",
      "tip_amount = 'tip_amount'\n",
      "tolls_amount = 'tolls_amount'\n",
      "total_amount = 'total_amount'\n"
     ]
    }
   ],
   "source": [
    "# skip\n",
    "\n",
    "column_names_list(fare_df_raw)"
   ]
  },
  {
   "cell_type": "code",
   "execution_count": 15,
   "id": "ecbd0ad4-9d9d-4cdc-9df2-1673bed9fa4a",
   "metadata": {},
   "outputs": [
    {
     "data": {
      "text/plain": [
       "['medallion',\n",
       " 'hack_license',\n",
       " 'vendor_id',\n",
       " 'rate_code',\n",
       " 'pickup_datetime',\n",
       " 'passenger_count',\n",
       " 'trip_time_in_secs',\n",
       " 'trip_distance']"
      ]
     },
     "execution_count": 15,
     "metadata": {},
     "output_type": "execute_result"
    }
   ],
   "source": [
    "trip_columns_to_drop = [\n",
    "    c.store_and_fwd_flag,\n",
    "    c.dropoff_datetime,\n",
    "    c.pickup_longitude,\n",
    "    c.pickup_latitude,\n",
    "    c.dropoff_longitude,\n",
    "    c.dropoff_latitude\n",
    "]\n",
    "trip_df_raw = trip_df_raw.drop(*trip_columns_to_drop)\n",
    "trip_df_raw.columns"
   ]
  },
  {
   "cell_type": "code",
   "execution_count": 16,
   "id": "d56805c6-ec58-4a6d-8666-d02426776a64",
   "metadata": {},
   "outputs": [
    {
     "data": {
      "text/plain": [
       "['medallion',\n",
       " 'hack_license',\n",
       " 'vendor_id',\n",
       " 'pickup_datetime',\n",
       " 'payment_type',\n",
       " 'fare_amount',\n",
       " 'surcharge',\n",
       " 'tip_amount',\n",
       " 'total_amount']"
      ]
     },
     "execution_count": 16,
     "metadata": {},
     "output_type": "execute_result"
    }
   ],
   "source": [
    "fare_columns_to_drop = [\n",
    "    c.tolls_amount,\n",
    "    c.mta_tax,\n",
    "]\n",
    "fare_df_raw = fare_df_raw.drop(*fare_columns_to_drop)\n",
    "fare_df_raw.columns"
   ]
  },
  {
   "cell_type": "code",
   "execution_count": 17,
   "id": "74c89b8a-2254-4ceb-8064-2b9f1c305453",
   "metadata": {},
   "outputs": [
    {
     "data": {
      "text/plain": [
       "30849696"
      ]
     },
     "execution_count": 17,
     "metadata": {},
     "output_type": "execute_result"
    }
   ],
   "source": [
    "trip_df_raw.count()"
   ]
  },
  {
   "cell_type": "code",
   "execution_count": 18,
   "id": "765d17c6-d787-4b35-a75d-ed3c99f7e54f",
   "metadata": {},
   "outputs": [
    {
     "data": {
      "text/plain": [
       "30849696"
      ]
     },
     "execution_count": 18,
     "metadata": {},
     "output_type": "execute_result"
    }
   ],
   "source": [
    "fare_df_raw.count()"
   ]
  },
  {
   "cell_type": "code",
   "execution_count": 19,
   "id": "6e7edc53-180c-4920-8ddb-7f2ed16778d7",
   "metadata": {},
   "outputs": [
    {
     "name": "stdout",
     "output_type": "stream",
     "text": [
      "+---------+------------+---------+---------+---------------+---------------+-----------------+-------------+\n",
      "|medallion|hack_license|vendor_id|rate_code|pickup_datetime|passenger_count|trip_time_in_secs|trip_distance|\n",
      "+---------+------------+---------+---------+---------------+---------------+-----------------+-------------+\n",
      "|        0|           0|        0|        0|              0|              0|                0|            0|\n",
      "+---------+------------+---------+---------+---------------+---------------+-----------------+-------------+\n",
      "\n"
     ]
    }
   ],
   "source": [
    "#skip \n",
    "trip_df_raw.select([f.count(f.when(f.col(c).isNull(), c)).alias(c) for c in trip_df_raw.columns]\n",
    "   ).show()"
   ]
  },
  {
   "cell_type": "code",
   "execution_count": 20,
   "id": "49e73b0e-3869-4435-a0de-aa2735614a70",
   "metadata": {},
   "outputs": [
    {
     "name": "stdout",
     "output_type": "stream",
     "text": [
      "+---------+------------+---------+---------------+------------+-----------+---------+----------+------------+\n",
      "|medallion|hack_license|vendor_id|pickup_datetime|payment_type|fare_amount|surcharge|tip_amount|total_amount|\n",
      "+---------+------------+---------+---------------+------------+-----------+---------+----------+------------+\n",
      "|        0|           0|        0|              0|           0|          0|        0|         0|           0|\n",
      "+---------+------------+---------+---------------+------------+-----------+---------+----------+------------+\n",
      "\n"
     ]
    }
   ],
   "source": [
    "#skip \n",
    "fare_df_raw.select([f.count(f.when(f.col(c).isNull(), c)).alias(c) for c in fare_df_raw.columns]\n",
    "   ).show()"
   ]
  },
  {
   "cell_type": "code",
   "execution_count": 21,
   "id": "39d21ff2-7468-49d9-90b0-bdd507caf7a3",
   "metadata": {},
   "outputs": [],
   "source": [
    "trip_df = trip_df_raw.filter(\n",
    "    (f.month(c.pickup_datetime) == TARGET_MONTH_NUM) \n",
    ")"
   ]
  },
  {
   "cell_type": "code",
   "execution_count": 22,
   "id": "aef287a3-1af5-4c1a-a169-73b17fbeb893",
   "metadata": {},
   "outputs": [],
   "source": [
    "fare_df = fare_df_raw.filter(\n",
    "    (f.month(c.pickup_datetime) == TARGET_MONTH_NUM) \n",
    ")"
   ]
  },
  {
   "cell_type": "code",
   "execution_count": 23,
   "id": "96a1d4ec-f3b2-4367-8a19-d01a8973adb4",
   "metadata": {},
   "outputs": [
    {
     "name": "stdout",
     "output_type": "stream",
     "text": [
      "+-------+------------------+------------------+-----------------+------------------+\n",
      "|summary|         rate_code|   passenger_count|trip_time_in_secs|     trip_distance|\n",
      "+-------+------------------+------------------+-----------------+------------------+\n",
      "|    min|                 0|                 0|                0|               0.0|\n",
      "|   mean|1.0338665488873486|1.7121524305826292|717.4479485597643|2.8414825427954855|\n",
      "|    max|               210|               255|              999|             100.0|\n",
      "+-------+------------------+------------------+-----------------+------------------+\n",
      "\n"
     ]
    }
   ],
   "source": [
    "trip_df.select(c.rate_code, c.passenger_count, c.trip_time_in_secs, c.trip_distance).summary('min', \"mean\", 'max').show()"
   ]
  },
  {
   "cell_type": "code",
   "execution_count": 24,
   "id": "558b1361-4759-48cf-a1ff-f4fe5c79c7ad",
   "metadata": {},
   "outputs": [
    {
     "name": "stdout",
     "output_type": "stream",
     "text": [
      "+-------+-----------------+------------------+\n",
      "|summary|      fare_amount|      total_amount|\n",
      "+-------+-----------------+------------------+\n",
      "|    min|              2.5|               2.5|\n",
      "|   mean|12.03511757978071|14.395476985343125|\n",
      "|    max|            500.0|             529.8|\n",
      "+-------+-----------------+------------------+\n",
      "\n"
     ]
    }
   ],
   "source": [
    "fare_df.select(c.fare_amount, c.total_amount).summary('min', \"mean\", 'max').show()"
   ]
  },
  {
   "cell_type": "code",
   "execution_count": 25,
   "id": "006378ce-12a4-4580-9066-5973c226d983",
   "metadata": {},
   "outputs": [],
   "source": [
    "trip_df = trip_df.filter(\n",
    "    (trip_df_raw.trip_time_in_secs >= MINIMAL_TRIP_TIME_SEC)\n",
    "    & (trip_df_raw.rate_code == STD_CITY_RATE)\n",
    "    & (trip_df.passenger_count <= MAX_PASSENGER_NUM)\n",
    ")"
   ]
  },
  {
   "cell_type": "code",
   "execution_count": 26,
   "id": "2a4291d1-eab7-4cbf-ba81-b50ad8454d37",
   "metadata": {},
   "outputs": [],
   "source": [
    "fare_df = fare_df.filter(\n",
    "    (fare_df_raw.total_amount >= MINIMAL_FARE_AMOUNT)\n",
    ")"
   ]
  },
  {
   "cell_type": "code",
   "execution_count": 27,
   "id": "85283e27-de67-43f0-a201-45384c65c69b",
   "metadata": {},
   "outputs": [
    {
     "data": {
      "text/plain": [
       "DataFrame[medallion: string, hack_license: string, vendor_id: string, pickup_datetime: timestamp, rate_code: int, passenger_count: int, trip_time_in_secs: string, trip_distance: float, payment_type: string, fare_amount: float, surcharge: float, tip_amount: float, total_amount: float]"
      ]
     },
     "execution_count": 27,
     "metadata": {},
     "output_type": "execute_result"
    }
   ],
   "source": [
    "taxi_df = trip_df.join(fare_df, on=[c.medallion, c.hack_license, c.vendor_id, c.pickup_datetime])\n",
    "\n",
    "taxi_df.cache()\n",
    "# joined_df.show()"
   ]
  },
  {
   "cell_type": "code",
   "execution_count": 28,
   "id": "e85b178c-72ad-44a6-b88f-b48a9c1795b5",
   "metadata": {
    "scrolled": true
   },
   "outputs": [
    {
     "name": "stdout",
     "output_type": "stream",
     "text": [
      "+--------------------+--------------------+---------+-------------------+---------------+------------+-----------+---------+----------+------------+------------------+\n",
      "|           medallion|        hack_license|vendor_id|    pickup_datetime|passenger_count|payment_type|fare_amount|surcharge|tip_amount|total_amount|         avg_speed|\n",
      "+--------------------+--------------------+---------+-------------------+---------------+------------+-----------+---------+----------+------------+------------------+\n",
      "|00005007A9F30E289...|16780B3E72BAA7A5C...|      CMT|2013-03-27 16:57:23|              1|         CRD|       12.5|      0.5|      4.05|       17.55| 18.36235181696657|\n",
      "|00005007A9F30E289...|39C3E34B3E338A721...|      CMT|2013-03-17 08:30:49|              1|         CRD|       10.5|      0.0|       2.0|        13.0| 20.18103441585546|\n",
      "|00005007A9F30E289...|39C3E34B3E338A721...|      CMT|2013-03-17 12:48:18|              1|         CRD|        5.0|      0.0|       1.0|         6.5|16.157557015675092|\n",
      "|00005007A9F30E289...|480A82787EB8CDAB4...|      CMT|2013-03-19 04:29:05|              1|         CRD|       17.0|      0.0|       1.5|        19.0|15.129317290725355|\n",
      "|00005007A9F30E289...|63CCE22BEC3F17D5B...|      CMT|2013-03-05 03:25:42|              1|         CRD|        8.5|      0.0|       1.0|        10.0|13.188770116859995|\n",
      "|00005007A9F30E289...|A9AE329EA1138052D...|      CMT|2013-03-15 20:37:17|              2|         CRD|       18.0|      0.5|       3.8|        22.8|25.279455665649525|\n",
      "|00005007A9F30E289...|A9AE329EA1138052D...|      CMT|2013-03-21 20:28:18|              1|         CSH|       15.5|      0.5|       0.0|        16.5| 34.59987214097988|\n",
      "|00005007A9F30E289...|A9AE329EA1138052D...|      CMT|2013-03-25 17:57:14|              1|         CRD|       11.5|      0.5|       2.5|        15.0| 38.54638395914878|\n",
      "|000318C2E3E638158...|705D816EEBB628310...|      VTS|2013-03-31 14:40:00|              3|         CRD|        8.5|      0.0|       1.0|        10.0| 22.69175034244537|\n",
      "|000318C2E3E638158...|7A994E87F01907AA6...|      VTS|2013-03-03 15:16:00|              1|         CRD|       14.0|      0.5|       2.9|        17.9|22.723937095825196|\n",
      "|000318C2E3E638158...|D7DE58A8D3D5AF933...|      VTS|2013-03-21 19:04:00|              1|         CRD|       11.0|      0.5|       2.0|        14.0| 28.48538926043701|\n",
      "|000351EDC735C0792...|9413377237F83B3FE...|      CMT|2013-03-07 12:48:50|              1|         CRD|       20.0|      1.0|      1.59|       23.09| 26.54273603874315|\n",
      "|000351EDC735C0792...|9413377237F83B3FE...|      CMT|2013-03-09 17:23:16|              1|         CSH|       10.0|      0.5|       0.0|        11.0|           16.4592|\n",
      "|000351EDC735C0792...|9413377237F83B3FE...|      CMT|2013-03-26 12:55:13|              1|         CSH|        9.0|      1.0|       0.0|        10.5|15.658482395491728|\n",
      "|000351EDC735C0792...|9413377237F83B3FE...|      CMT|2013-03-29 20:54:48|              1|         CRD|       10.0|      0.5|       2.2|        13.2|21.389033778070292|\n",
      "|000351EDC735C0792...|D853121533BE521D0...|      CMT|2013-03-22 08:27:15|              1|         CSH|       12.0|      0.0|       0.0|        12.5| 14.25173052806181|\n",
      "|000351EDC735C0792...|D853121533BE521D0...|      CMT|2013-03-26 06:55:21|              1|         CSH|       17.0|      0.0|       0.0|        17.5| 21.75267114237691|\n",
      "|000351EDC735C0792...|D853121533BE521D0...|      CMT|2013-03-28 03:43:17|              1|         CRD|        4.5|      0.0|       1.5|         6.5|18.790179341249207|\n",
      "|0009986BDBAB2F9A1...|44CED38841518B1FB...|      CMT|2013-03-02 16:13:38|              1|         CSH|        7.5|      0.5|       0.0|         8.5|15.780337785737151|\n",
      "|0009986BDBAB2F9A1...|44CED38841518B1FB...|      CMT|2013-03-16 19:14:03|              1|         CSH|       12.0|      0.5|       0.0|        13.0|26.297366179095327|\n",
      "+--------------------+--------------------+---------+-------------------+---------------+------------+-----------+---------+----------+------------+------------------+\n",
      "only showing top 20 rows\n",
      "\n"
     ]
    }
   ],
   "source": [
    "taxi_df = taxi_df.drop(c.rate_code)\n",
    "taxi_df = taxi_df.withColumn(c.pickup_datetime, f.from_utc_timestamp(c.pickup_datetime, NYC_TIMEZONE))\n",
    "taxi_df = taxi_df.withColumn(\"avg_speed\", ((f.col(c.trip_distance) / f.col(c.trip_time_in_secs)) * MILES_SEC_TO_KM_HOUR))\n",
    "taxi_df = taxi_df.drop(c.trip_distance, c.trip_time_in_secs)\n",
    "\n",
    "taxi_df.cache()\n",
    "\n",
    "taxi_df.show()"
   ]
  },
  {
   "cell_type": "code",
   "execution_count": 29,
   "id": "864bcdc2-9172-46a7-b375-f276e242f510",
   "metadata": {},
   "outputs": [
    {
     "data": {
      "text/plain": [
       "13200950"
      ]
     },
     "execution_count": 29,
     "metadata": {},
     "output_type": "execute_result"
    }
   ],
   "source": [
    "taxi_df.count()"
   ]
  },
  {
   "cell_type": "code",
   "execution_count": 38,
   "id": "fa5ad2d8-ffbb-42b4-b627-61b0f29121aa",
   "metadata": {},
   "outputs": [
    {
     "name": "stdout",
     "output_type": "stream",
     "text": [
      "+---------+-------------------+------------+-----------+----------+\n",
      "|vendor_id|    pickup_datetime|payment_type|fare_amount|tip_amount|\n",
      "+---------+-------------------+------------+-----------+----------+\n",
      "|      CMT|2013-03-27 16:57:23|         CRD|       12.5|      4.05|\n",
      "|      CMT|2013-03-17 08:30:49|         CRD|       10.5|       2.0|\n",
      "|      CMT|2013-03-17 12:48:18|         CRD|        5.0|       1.0|\n",
      "|      CMT|2013-03-19 04:29:05|         CRD|       17.0|       1.5|\n",
      "|      CMT|2013-03-05 03:25:42|         CRD|        8.5|       1.0|\n",
      "|      CMT|2013-03-15 20:37:17|         CRD|       18.0|       3.8|\n",
      "|      CMT|2013-03-21 20:28:18|         CSH|       15.5|       0.0|\n",
      "|      CMT|2013-03-25 17:57:14|         CRD|       11.5|       2.5|\n",
      "|      VTS|2013-03-31 14:40:00|         CRD|        8.5|       1.0|\n",
      "|      VTS|2013-03-03 15:16:00|         CRD|       14.0|       2.9|\n",
      "|      VTS|2013-03-21 19:04:00|         CRD|       11.0|       2.0|\n",
      "|      CMT|2013-03-07 12:48:50|         CRD|       20.0|      1.59|\n",
      "|      CMT|2013-03-09 17:23:16|         CSH|       10.0|       0.0|\n",
      "|      CMT|2013-03-26 12:55:13|         CSH|        9.0|       0.0|\n",
      "|      CMT|2013-03-29 20:54:48|         CRD|       10.0|       2.2|\n",
      "|      CMT|2013-03-22 08:27:15|         CSH|       12.0|       0.0|\n",
      "|      CMT|2013-03-26 06:55:21|         CSH|       17.0|       0.0|\n",
      "|      CMT|2013-03-28 03:43:17|         CRD|        4.5|       1.5|\n",
      "|      CMT|2013-03-02 16:13:38|         CSH|        7.5|       0.0|\n",
      "|      CMT|2013-03-16 19:14:03|         CSH|       12.0|       0.0|\n",
      "+---------+-------------------+------------+-----------+----------+\n",
      "only showing top 20 rows\n",
      "\n"
     ]
    }
   ],
   "source": [
    "taxi_df.select(c.vendor_id, c.pickup_datetime, c.payment_type, c.fare_amount, c.tip_amount).show()"
   ]
  },
  {
   "cell_type": "code",
   "execution_count": 40,
   "id": "a9221c86-8943-425d-9c48-1d197271bf8e",
   "metadata": {},
   "outputs": [
    {
     "name": "stdout",
     "output_type": "stream",
     "text": [
      "+---------+------------+---------------+--------------+---------+\n",
      "|vendor_id|payment_type|avg_fare_amount|avg_tip_amount|row_count|\n",
      "+---------+------------+---------------+--------------+---------+\n",
      "|      CMT|         DIS|       14.23206|       0.01464|     7830|\n",
      "|      CMT|         CSH|       10.86614|       0.00142|  3387347|\n",
      "|      CMT|         CRD|       12.04952|       2.36257|  3881217|\n",
      "|      VTS|         CRD|       12.04416|       2.27002|  3199127|\n",
      "|      CMT|         NOC|       12.97715|        0.0057|    19830|\n",
      "|      VTS|         UNK|       13.33046|       2.75677|     5161|\n",
      "|      VTS|         CSH|       10.84117|        8.0E-5|  2700438|\n",
      "+---------+------------+---------------+--------------+---------+\n",
      "\n"
     ]
    }
   ],
   "source": [
    "grouped_df = taxi_df.groupBy(\"vendor_id\", \"payment_type\").agg(\n",
    "    f.round(f.avg(\"fare_amount\"),5).alias(\"avg_fare_amount\"),\n",
    "    f.round(f.avg(\"tip_amount\"),5).alias(\"avg_tip_amount\"),\n",
    "    f.count(\"*\").alias(\"row_count\")\n",
    ")\n",
    "\n",
    "grouped_df.show()"
   ]
  },
  {
   "cell_type": "code",
   "execution_count": 42,
   "id": "8a51055c-085c-4885-a2f7-c8bdd746fa50",
   "metadata": {},
   "outputs": [
    {
     "name": "stdout",
     "output_type": "stream",
     "text": [
      "+---------+------------+---------------+--------------+---------+----------------+---------------+\n",
      "|vendor_id|payment_type|avg_fare_amount|avg_tip_amount|row_count|fare_amount_rank|tip_amount_rank|\n",
      "+---------+------------+---------------+--------------+---------+----------------+---------------+\n",
      "|      VTS|         UNK|       13.33046|       2.75677|     5161|               1|              1|\n",
      "|      CMT|         DIS|       14.23206|       0.01464|     7830|               1|              2|\n",
      "|      VTS|         CRD|       12.04416|       2.27002|  3199127|               2|              2|\n",
      "|      CMT|         NOC|       12.97715|        0.0057|    19830|               2|              3|\n",
      "|      CMT|         CRD|       12.04952|       2.36257|  3881217|               3|              1|\n",
      "|      VTS|         CSH|       10.84117|        8.0E-5|  2700438|               3|              3|\n",
      "|      CMT|         CSH|       10.86614|       0.00142|  3387347|               4|              4|\n",
      "+---------+------------+---------------+--------------+---------+----------------+---------------+\n",
      "\n"
     ]
    }
   ],
   "source": [
    "\n",
    "window_spec_fare = Window.partitionBy(c.vendor_id).orderBy(f.desc(\"avg_fare_amount\"))\n",
    "window_spec_tip = Window.partitionBy(c.vendor_id).orderBy(f.desc(\"avg_tip_amount\"))\n",
    "\n",
    "ranked_df = grouped_df.withColumn(\"fare_amount_rank\", f.rank().over(window_spec_fare))\n",
    "ranked_df = ranked_df.withColumn(\"tip_amount_rank\", f.rank().over(window_spec_tip)).orderBy(\"fare_amount_rank\",\"tip_amount_rank\")\n",
    "\n",
    "ranked_df.show()"
   ]
  },
  {
   "cell_type": "code",
   "execution_count": 43,
   "id": "19d896eb-20e3-47c0-9f01-d66983bc74de",
   "metadata": {},
   "outputs": [
    {
     "name": "stdout",
     "output_type": "stream",
     "text": [
      "+---------+------------+---------------+--------------+---------+----------------+---------------+\n",
      "|vendor_id|payment_type|avg_fare_amount|avg_tip_amount|row_count|fare_amount_rank|tip_amount_rank|\n",
      "+---------+------------+---------------+--------------+---------+----------------+---------------+\n",
      "|      VTS|         CRD|       12.04416|       2.27002|  3199127|               2|              2|\n",
      "|      CMT|         CRD|       12.04952|       2.36257|  3881217|               3|              1|\n",
      "|      VTS|         CSH|       10.84117|        8.0E-5|  2700438|               3|              3|\n",
      "|      CMT|         CSH|       10.86614|       0.00142|  3387347|               4|              4|\n",
      "+---------+------------+---------------+--------------+---------+----------------+---------------+\n",
      "\n"
     ]
    }
   ],
   "source": [
    "ranked_df.filter(f.col(c.payment_type).isin([\"CRD\", \"CSH\"])).show()"
   ]
  },
  {
   "cell_type": "code",
   "execution_count": null,
   "id": "05625c24-1bc4-400e-8acb-a699099d88b3",
   "metadata": {},
   "outputs": [],
   "source": []
  },
  {
   "cell_type": "code",
   "execution_count": 32,
   "id": "f41f590e-fe70-4efa-87e8-4b161e820d28",
   "metadata": {},
   "outputs": [
    {
     "name": "stdout",
     "output_type": "stream",
     "text": [
      "+---------+------------+\n",
      "|medallion|hack_license|\n",
      "+---------+------------+\n",
      "|    13274|       31631|\n",
      "+---------+------------+\n",
      "\n"
     ]
    }
   ],
   "source": [
    "taxi_df.select(\n",
    "  f.countDistinct(c.medallion).alias(\"medallion\"),\n",
    "  f.countDistinct(c.hack_license).alias(\"hack_license\")\n",
    ").show()\n"
   ]
  },
  {
   "cell_type": "code",
   "execution_count": 39,
   "id": "63a106fd-0978-4abb-974d-9ed454fb73a5",
   "metadata": {},
   "outputs": [
    {
     "name": "stdout",
     "output_type": "stream",
     "text": [
      "+------------+\n",
      "|payment_type|\n",
      "+------------+\n",
      "|         CSH|\n",
      "|         DIS|\n",
      "|         CRD|\n",
      "|         UNK|\n",
      "|         NOC|\n",
      "+------------+\n",
      "\n"
     ]
    }
   ],
   "source": [
    "taxi_df.select(c.payment_type).distinct().show()"
   ]
  },
  {
   "cell_type": "code",
   "execution_count": 53,
   "id": "5c72e429-c2b3-48cd-9e77-495abcd95e2a",
   "metadata": {},
   "outputs": [
    {
     "name": "stdout",
     "output_type": "stream",
     "text": [
      "+-------------------+-----------+---------+----------+------------+---------+\n",
      "|    pickup_datetime|fare_amount|surcharge|tip_amount|total_amount|avg_speed|\n",
      "+-------------------+-----------+---------+----------+------------+---------+\n",
      "|2013-03-27 16:57:23|       12.5|      0.5|      4.05|       17.55|   18.362|\n",
      "|2013-03-17 08:30:49|       10.5|      0.0|       2.0|        13.0|   20.181|\n",
      "|2013-03-17 12:48:18|        5.0|      0.0|       1.0|         6.5|   16.158|\n",
      "|2013-03-19 04:29:05|       17.0|      0.0|       1.5|        19.0|   15.129|\n",
      "|2013-03-05 03:25:42|        8.5|      0.0|       1.0|        10.0|   13.189|\n",
      "|2013-03-15 20:37:17|       18.0|      0.5|       3.8|        22.8|   25.279|\n",
      "|2013-03-21 20:28:18|       15.5|      0.5|       0.0|        16.5|     34.6|\n",
      "|2013-03-25 17:57:14|       11.5|      0.5|       2.5|        15.0|   38.546|\n",
      "|2013-03-31 14:40:00|        8.5|      0.0|       1.0|        10.0|   22.692|\n",
      "|2013-03-03 15:16:00|       14.0|      0.5|       2.9|        17.9|   22.724|\n",
      "|2013-03-21 19:04:00|       11.0|      0.5|       2.0|        14.0|   28.485|\n",
      "|2013-03-07 12:48:50|       20.0|      1.0|      1.59|       23.09|   26.543|\n",
      "|2013-03-09 17:23:16|       10.0|      0.5|       0.0|        11.0|   16.459|\n",
      "|2013-03-26 12:55:13|        9.0|      1.0|       0.0|        10.5|   15.658|\n",
      "|2013-03-29 20:54:48|       10.0|      0.5|       2.2|        13.2|   21.389|\n",
      "|2013-03-22 08:27:15|       12.0|      0.0|       0.0|        12.5|   14.252|\n",
      "|2013-03-26 06:55:21|       17.0|      0.0|       0.0|        17.5|   21.753|\n",
      "|2013-03-28 03:43:17|        4.5|      0.0|       1.5|         6.5|    18.79|\n",
      "|2013-03-02 16:13:38|        7.5|      0.5|       0.0|         8.5|    15.78|\n",
      "|2013-03-16 19:14:03|       12.0|      0.5|       0.0|        13.0|   26.297|\n",
      "+-------------------+-----------+---------+----------+------------+---------+\n",
      "only showing top 20 rows\n",
      "\n"
     ]
    }
   ],
   "source": [
    "taxi_df.select(c.pickup_datetime, c.fare_amount, c.surcharge, \n",
    "               c.tip_amount, c.total_amount, \n",
    "               f.round(\"avg_speed\", 3).alias(\"avg_speed\")).show()"
   ]
  },
  {
   "cell_type": "code",
   "execution_count": null,
   "id": "e4b9830e-1b86-435e-9014-ea48a5282d91",
   "metadata": {},
   "outputs": [],
   "source": []
  },
  {
   "cell_type": "code",
   "execution_count": 35,
   "id": "ec6b91ac-d85d-489c-81e7-5c0518797ef5",
   "metadata": {},
   "outputs": [
    {
     "name": "stdout",
     "output_type": "stream",
     "text": [
      "+-------+---------+---------------+------------------+-------------+--------------+----------------+---------+\n",
      "|day_idx|row_count|avg_fare_amount|stddev_fare_amount|avg_surcharge|avg_tip_amount|avg_total_amount|  weekday|\n",
      "+-------+---------+---------------+------------------+-------------+--------------+----------------+---------+\n",
      "|      1|  1572669|       11.65321|           7.73176|      0.14364|       1.15518|        13.64748|   Sunday|\n",
      "|      2|  1521814|       11.28764|            7.5294|      0.37784|       1.26842|        13.62595|   Monday|\n",
      "|      3|  1642473|       11.35368|            7.2596|       0.3717|       1.30146|        13.69226|  Tuesday|\n",
      "|      4|  1712867|       11.46297|           7.26995|      0.37632|       1.32575|        13.83595|Wednesday|\n",
      "|      5|  1877892|       11.69795|           7.49998|      0.37654|        1.3155|        14.06378| Thursday|\n",
      "|      6|  2507065|       11.58422|           7.34769|      0.39923|       1.26173|        13.89639|   Friday|\n",
      "|      7|  2366170|       11.41997|           6.93946|      0.22946|       1.12507|        13.36729| Saturday|\n",
      "+-------+---------+---------------+------------------+-------------+--------------+----------------+---------+\n",
      "\n"
     ]
    }
   ],
   "source": [
    "average_tips_by_weekday = taxi_df.groupBy(f.dayofweek(c.pickup_datetime).alias(\"day_idx\")) \\\n",
    "     .agg(\n",
    "         f.count(\"*\").alias(\"row_count\"),\n",
    "         f.round(f.mean(c.fare_amount),5).alias(\"avg_fare_amount\"),\n",
    "         f.round(f.stddev(c.fare_amount),5).alias(\"stddev_fare_amount\"),\n",
    "         f.round(f.mean(c.surcharge),5).alias(\"avg_surcharge\"),\n",
    "         f.round(f.mean(c.tip_amount),5).alias(\"avg_tip_amount\"),\n",
    "         f.round(f.mean(c.total_amount),5).alias(\"avg_total_amount\"),\n",
    "        \n",
    "    ).orderBy(\"day_idx\")\n",
    "\n",
    "average_tips_by_weekday = average_tips_by_weekday.withColumn('weekday',\n",
    "                                                             f.when(f.col(\"day_idx\") == 1, \"Sunday\")\n",
    "                                                             .when(f.col(\"day_idx\") == 2, \"Monday\")\n",
    "                                                             .when(f.col(\"day_idx\") == 3, \"Tuesday\")\n",
    "                                                             .when(f.col(\"day_idx\") == 4, \"Wednesday\")\n",
    "                                                             .when(f.col(\"day_idx\") == 5, \"Thursday\")\n",
    "                                                             .when(f.col(\"day_idx\") == 6, \"Friday\")\n",
    "                                                             .when(f.col(\"day_idx\") == 7, \"Saturday\"))\n",
    "average_tips_by_weekday.show()"
   ]
  },
  {
   "cell_type": "code",
   "execution_count": 54,
   "id": "58934829-fce6-4632-a576-121f54e952c4",
   "metadata": {},
   "outputs": [
    {
     "name": "stdout",
     "output_type": "stream",
     "text": [
      "+----+---------+---------+---------------+-------------+--------------+----------------+\n",
      "|hour|row_count|avg_speed|avg_fare_amount|avg_surcharge|avg_tip_amount|avg_total_amount|\n",
      "+----+---------+---------+---------------+-------------+--------------+----------------+\n",
      "|   0|   132634| 31.83094|       14.10929|      0.49386|       1.31163|        16.70518|\n",
      "|   1|   152571|  30.5245|       12.62722|      0.22616|       1.28523|        14.97216|\n",
      "|   2|   307041| 25.17298|       11.17498|      0.00161|       1.18329|        13.07046|\n",
      "|   3|   474100| 20.91488|       11.03072|       4.4E-4|       1.24401|        12.94664|\n",
      "|   4|   576827| 18.21941|       11.20746|       4.0E-4|       1.29958|        13.16561|\n",
      "|   5|   608655| 18.12692|       11.28717|       4.2E-4|       1.26393|        13.23533|\n",
      "|   6|   606650| 18.30195|       11.21618|       4.0E-4|       1.17188|        13.07285|\n",
      "|   7|   631315| 17.87479|       11.21528|       3.9E-4|        1.1536|           13.05|\n",
      "|   8|   650871| 17.75372|       11.31806|       4.0E-4|       1.15401|        13.16493|\n",
      "|   9|   650108| 17.75387|       11.32417|       4.5E-4|       1.13568|         13.1514|\n",
      "|  10|   655981| 17.54423|       11.43208|      0.00495|       1.12957|        13.26952|\n",
      "|  11|   600290| 17.85868|       11.47968|      0.18675|       1.14392|        13.52026|\n",
      "|  12|   568258| 18.54116|       11.35772|      0.66391|       1.18736|        13.91708|\n",
      "|  13|   705137| 18.34318|       11.23694|      0.68483|       1.21417|        13.80047|\n",
      "|  14|   822158| 18.66507|       10.93153|      0.70046|       1.22219|        13.47775|\n",
      "|  15|   830548| 19.90226|       10.86923|      0.64962|       1.23973|        13.37038|\n",
      "|  16|   788729|  21.6687|       11.15335|      0.50086|       1.30873|        13.58524|\n",
      "|  17|   762986|  22.8869|       11.53633|      0.49978|       1.35332|        14.02288|\n",
      "|  18|   725172|  23.6383|       11.91421|      0.49978|       1.37595|        14.42257|\n",
      "|  19|   638369| 24.57184|       12.28512|      0.49975|       1.38385|        14.79711|\n",
      "|  20|   488694| 25.49361|       12.36467|      0.49974|       1.34351|        14.80089|\n",
      "|  21|   342263| 26.70014|        12.4484|      0.49973|       1.32528|        14.84505|\n",
      "|  22|   276530| 27.39897|       12.69508|      0.49974|       1.32854|        15.09029|\n",
      "|  23|   205063|  28.9927|        13.3312|      0.49965|       1.28683|        15.72724|\n",
      "+----+---------+---------+---------------+-------------+--------------+----------------+\n",
      "\n"
     ]
    }
   ],
   "source": [
    "average_tips_by_hour = taxi_df.groupBy(f.hour(c.pickup_datetime).alias(\"hour\")) \\\n",
    "                                .agg(\n",
    "                                    f.round(f.count(\"*\"),5).alias(\"row_count\"),\n",
    "                                    f.round(f.mean(\"avg_speed\"),5).alias(\"avg_speed\"), \n",
    "                                    f.round(f.mean(c.fare_amount),5).alias(\"avg_fare_amount\"),\n",
    "                            \n",
    "                                    f.round(f.mean(c.surcharge),5).alias(\"avg_surcharge\"),\n",
    "                                   \n",
    "                                    f.round(f.mean(c.tip_amount),5).alias(\"avg_tip_amount\"),\n",
    "                                   \n",
    "                                    f.round(f.mean(c.total_amount),5).alias(\"avg_total_amount\"),\n",
    "                                ).orderBy(\"hour\")\n",
    "\n",
    "average_tips_by_hour.show(24)"
   ]
  },
  {
   "cell_type": "code",
   "execution_count": null,
   "id": "3554fe1d-7e7d-459c-970f-2a93ed8d0bb3",
   "metadata": {},
   "outputs": [],
   "source": []
  }
 ],
 "metadata": {
  "kernelspec": {
   "display_name": "Python 3 (ipykernel)",
   "language": "python",
   "name": "python3"
  },
  "language_info": {
   "codemirror_mode": {
    "name": "ipython",
    "version": 3
   },
   "file_extension": ".py",
   "mimetype": "text/x-python",
   "name": "python",
   "nbconvert_exporter": "python",
   "pygments_lexer": "ipython3",
   "version": "3.10.7"
  }
 },
 "nbformat": 4,
 "nbformat_minor": 5
}
